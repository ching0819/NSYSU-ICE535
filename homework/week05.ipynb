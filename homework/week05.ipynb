{
 "cells": [
  {
   "cell_type": "markdown",
   "metadata": {},
   "source": [
    "# Neural Network\n",
    "## MNIST classification problem\n",
    "* 手寫一個MLP網路用來分類手寫數字\n",
    "* 用 feedforward propagation 與 backpropagation 來學習NN的參數"
   ]
  },
  {
   "cell_type": "code",
   "execution_count": 1,
   "metadata": {},
   "outputs": [],
   "source": [
    "import numpy as np\n",
    "import pandas as pd\n",
    "import matplotlib.pyplot as plt\n",
    "from scipy.io import loadmat"
   ]
  },
  {
   "cell_type": "markdown",
   "metadata": {},
   "source": [
    "#### 1.1 Visualizing the data"
   ]
  },
  {
   "cell_type": "code",
   "execution_count": 2,
   "metadata": {},
   "outputs": [
    {
     "data": {
      "text/plain": [
       "((5000, 400), (5000, 1))"
      ]
     },
     "execution_count": 2,
     "metadata": {},
     "output_type": "execute_result"
    }
   ],
   "source": [
    "data = loadmat('data/ex4data1.mat')\n",
    "data['X'].shape, data['y'].shape"
   ]
  },
  {
   "cell_type": "markdown",
   "metadata": {},
   "source": [
    "#### 1.2 Model representation\n",
    "\n",
    "#### 1.3 Feedforward and cost function"
   ]
  },
  {
   "cell_type": "code",
   "execution_count": 3,
   "metadata": {
    "scrolled": true
   },
   "outputs": [
    {
     "name": "stderr",
     "output_type": "stream",
     "text": [
      "C:\\ProgramData\\Anaconda3\\lib\\site-packages\\sklearn\\preprocessing\\_encoders.py:415: FutureWarning: The handling of integer data will change in version 0.22. Currently, the categories are determined based on the range [0, max(values)], while in the future they will be determined based on the unique values.\n",
      "If you want the future behaviour and silence this warning, you can specify \"categories='auto'\".\n",
      "In case you used a LabelEncoder before this OneHotEncoder to convert the categories to integers, then you can now use the OneHotEncoder directly.\n",
      "  warnings.warn(msg, FutureWarning)\n"
     ]
    },
    {
     "data": {
      "text/plain": [
       "(5000, 10)"
      ]
     },
     "execution_count": 3,
     "metadata": {},
     "output_type": "execute_result"
    }
   ],
   "source": [
    "from sklearn.preprocessing import OneHotEncoder\n",
    "encoder = OneHotEncoder(sparse=False)\n",
    "y_onehot = encoder.fit_transform(data['y'])\n",
    "y_onehot.shape"
   ]
  },
  {
   "cell_type": "code",
   "execution_count": 4,
   "metadata": {},
   "outputs": [
    {
     "data": {
      "text/plain": [
       "(array([10], dtype=uint8), array([0., 0., 0., 0., 0., 0., 0., 0., 0., 1.]))"
      ]
     },
     "execution_count": 4,
     "metadata": {},
     "output_type": "execute_result"
    }
   ],
   "source": [
    "data['y'][0], y_onehot[0,:]"
   ]
  },
  {
   "cell_type": "markdown",
   "metadata": {},
   "source": [
    "#### 1.4 Regularized cost function"
   ]
  },
  {
   "cell_type": "code",
   "execution_count": 5,
   "metadata": {},
   "outputs": [],
   "source": [
    "#建構需要的函式\n",
    "\n",
    "#sigmoid函數\n",
    "def sigmoid(z):\n",
    "    return 1 / (1 + np.exp(-z))\n",
    "\n",
    "#\n",
    "def forward_propagate(X, theta1, theta2):\n",
    "    m = X.shape[0]\n",
    "    a1 = np.insert(X, 0, values=np.ones(m), axis=1) #在X最前面加一列5000*1的向量\n",
    "    z2 = a1 * theta1.T #得到5000*25的矩陣，400个特徵轉化為25個隱藏特征\n",
    "    a2 = np.insert(sigmoid(z2), 0, values=np.ones(m), axis=1) #取激活後的z2，再加一列5000*1的向量\n",
    "    z3 = a2 * theta2.T #得到5000*10的矩陣，最後10個特徵\n",
    "    h = sigmoid(z3) #激活後得到10個機率\n",
    "    return a1, z2, a2, z3, h    \n",
    "\n",
    "def cost(params, input_size, hidden_size, num_labels, X, y, learning_rate):\n",
    "    m = X.shape[0]\n",
    "    X = np.matrix(X)\n",
    "    y = np.matrix(y)\n",
    "    # reshape the parameter array into parameter matrices for each layer\n",
    "    theta1 = np.matrix(np.reshape(params[:hidden_size * (input_size + 1)], (hidden_size, (input_size + 1))))\n",
    "    theta2 = np.matrix(np.reshape(params[hidden_size * (input_size + 1):], (num_labels, (hidden_size + 1))))\n",
    "    # run the feed-forward pass\n",
    "    a1, z2, a2, z3, h = forward_propagate(X, theta1, theta2)\n",
    "    # compute the cost\n",
    "    J = 0\n",
    "    for i in range(m):\n",
    "        first_term = np.multiply(-y[i,:], np.log(h[i,:]))\n",
    "        second_term = np.multiply((1 - y[i,:]), np.log(1 - h[i,:]))\n",
    "    J = J / m\n",
    "    J += np.sum(first_term - second_term)\n",
    "\n",
    "    return J"
   ]
  },
  {
   "cell_type": "markdown",
   "metadata": {},
   "source": [
    "#### 1.5 Random initialization"
   ]
  },
  {
   "cell_type": "code",
   "execution_count": 6,
   "metadata": {},
   "outputs": [
    {
     "data": {
      "text/plain": [
       "((25, 401), (10, 26))"
      ]
     },
     "execution_count": 6,
     "metadata": {},
     "output_type": "execute_result"
    }
   ],
   "source": [
    "# initial setup\n",
    "input_size = 400  #輸入層變數個數400\n",
    "hidden_size = 25  #隱藏層變數個數為25\n",
    "num_labels = 10   #輸出層10個代表分別為1到10的概率\n",
    "learning_rate = 1 #正則化的係數\n",
    "\n",
    "# randomly initialize a parameter array of the size of the full network's parameters\n",
    "params = (np.random.random(size=hidden_size * (input_size + 1) + num_labels * (hidden_size + 1)) - 0.5) *0.2\n",
    "m = data['X'].shape[0] \n",
    "X = np.matrix(data['X']) #轉為矩陣方便運算\n",
    "y = np.matrix(data['y'])\n",
    "# unravel the parameter array into parameter matrices for each layer\n",
    "##優化得到的行向量按維數合成theta1和theta2\n",
    "theta1 = np.matrix(np.reshape(params[:hidden_size * (input_size + 1)], (hidden_size, (input_size + 1))))\n",
    "theta2 = np.matrix(np.reshape(params[hidden_size * (input_size + 1):], (num_labels, (hidden_size + 1))))\n",
    "\n",
    "theta1.shape, theta2.shape"
   ]
  },
  {
   "cell_type": "code",
   "execution_count": 7,
   "metadata": {},
   "outputs": [
    {
     "data": {
      "text/plain": [
       "((5000, 401), (5000, 25), (5000, 26), (5000, 10), (5000, 10))"
      ]
     },
     "execution_count": 7,
     "metadata": {},
     "output_type": "execute_result"
    }
   ],
   "source": [
    "a1, z2, a2, z3, h = forward_propagate(X, theta1, theta2)\n",
    "a1.shape, z2.shape, a2.shape, z3.shape, h.shape"
   ]
  },
  {
   "cell_type": "markdown",
   "metadata": {},
   "source": [
    "#### 2 Backpropagation\n",
    "#### 2.1 Sigmoid gradient"
   ]
  },
  {
   "cell_type": "code",
   "execution_count": 8,
   "metadata": {},
   "outputs": [],
   "source": [
    "#sigmoid函數求導\n",
    "def sigmoid_gradient(z):\n",
    "    return np.multiply(sigmoid(z), (1 - sigmoid(z)))\n"
   ]
  },
  {
   "cell_type": "markdown",
   "metadata": {},
   "source": [
    "#### 2.2 Backpropagation"
   ]
  },
  {
   "cell_type": "code",
   "execution_count": 9,
   "metadata": {},
   "outputs": [],
   "source": [
    "#反向傳播演算法計算梯度的函數，最後得到誤差J和梯度grad（把兩個梯度矩陣按行展開合成一行）\n",
    "def backprop(params, input_size, hidden_size, num_labels, X, y, learning_rate):\n",
    "    m = X.shape[0]\n",
    "    X = np.matrix(X)\n",
    "    y = np.matrix(y)\n",
    "    # reshape the parameter array into parameter matrices for each layer\n",
    "    theta1 = np.matrix(np.reshape(params[:hidden_size * (input_size + 1)], (hidden_size, (input_size + 1))))\n",
    "    theta2 = np.matrix(np.reshape(params[hidden_size * (input_size + 1):], (num_labels, (hidden_size + 1))))\n",
    "    # run the feed-forward pass\n",
    "    a1, z2, a2, z3, h = forward_propagate(X, theta1, theta2)\n",
    "    # initializations\n",
    "    J = 0\n",
    "    delta1 = np.zeros(theta1.shape) # (25, 401)\n",
    "    delta2 = np.zeros(theta2.shape) # (10, 26)\n",
    "    # compute the cost\n",
    "    for i in range(m):\n",
    "        first_term = np.multiply(-y[i,:], np.log(h[i,:])) #y_onehot的每一行和輸出概率h的每一行資料相乘\n",
    "        second_term = np.multiply((1 - y[i,:]), np.log(1 - h[i,:]))\n",
    "        J += np.sum(first_term - second_term) #乘出來的10*1的向量元素求和，再累加5000組的數據\n",
    "\n",
    "    J = J / m\n",
    "    \n",
    "    # add the cost regularization term\n",
    "    J += (float(learning_rate) / (2 * m)) * (np.sum(np.power(theta1[:,1:], 2)) + np.sum(np.power(theta2[:,1:],2)))\n",
    "    # perform backpropagation          \n",
    "    for t in range(m):\n",
    "        a1t = a1[t,:] # (1, 401)\n",
    "        z2t = z2[t,:] # (1, 25)\n",
    "        a2t = a2[t,:] # (1, 26)\n",
    "        ht = h[t,:] # (1, 10)\n",
    "        yt = y[t,:] # (1, 10)\n",
    "        d3t = ht - yt # (1, 10)\n",
    "        z2t = np.insert(z2t, 0, values=np.ones(1)) # (1, 26)\n",
    "        d2t = np.multiply((theta2.T * d3t.T).T, sigmoid_gradient(z2t)) # (1, 26)\n",
    "        delta1 = delta1 + (d2t[:,1:]).T * a1t\n",
    "        delta2 = delta2 + d3t.T * a2t\n",
    "    delta1 = delta1 / m\n",
    "    delta2 = delta2 / m\n",
    "    # unravel the gradient matrices into a single array\n",
    "    grad = np.concatenate((np.ravel(delta1), np.ravel(delta2)))\n",
    "    return J, grad"
   ]
  },
  {
   "cell_type": "code",
   "execution_count": 10,
   "metadata": {},
   "outputs": [
    {
     "data": {
      "text/plain": [
       "(6.858134837144125, (10285,))"
      ]
     },
     "execution_count": 10,
     "metadata": {},
     "output_type": "execute_result"
    }
   ],
   "source": [
    "J, grad = backprop(params, input_size, hidden_size, num_labels, X, y_onehot, learning_rate)\n",
    "J, grad.shape"
   ]
  },
  {
   "cell_type": "markdown",
   "metadata": {},
   "source": [
    "#### 2.5 Learning parameters using scipy"
   ]
  },
  {
   "cell_type": "code",
   "execution_count": 11,
   "metadata": {},
   "outputs": [
    {
     "name": "stderr",
     "output_type": "stream",
     "text": [
      "C:\\ProgramData\\Anaconda3\\lib\\site-packages\\ipykernel_launcher.py:18: RuntimeWarning: divide by zero encountered in log\n",
      "C:\\ProgramData\\Anaconda3\\lib\\site-packages\\ipykernel_launcher.py:18: RuntimeWarning: invalid value encountered in multiply\n"
     ]
    },
    {
     "name": "stdout",
     "output_type": "stream",
     "text": [
      "Wall time: 5min 6s\n"
     ]
    },
    {
     "data": {
      "text/plain": [
       "     fun: 0.5070201611371506\n",
       "     jac: array([ 0.00333006,  0.        ,  0.        , ..., -0.00075523,\n",
       "        0.00021056, -0.00059155])\n",
       " message: 'Linear search failed'\n",
       "    nfev: 225\n",
       "     nit: 15\n",
       "  status: 4\n",
       " success: False\n",
       "       x: array([-0.81140316, -0.04226063, -0.08662922, ...,  3.27881356,\n",
       "       -2.40740409, -0.97701358])"
      ]
     },
     "execution_count": 11,
     "metadata": {},
     "output_type": "execute_result"
    }
   ],
   "source": [
    "%%time\n",
    "from scipy.optimize import minimize\n",
    "# minimize the objective function\n",
    "#用minimize函數通過梯度grad優化J得到最優的theta1和theta2讓J最小\n",
    "fmin = minimize(fun=backprop, x0=params, args=(input_size, hidden_size, num_labels, X, y_onehot, learning_rate),  \n",
    "                method='TNC', jac=True, options={'maxiter': 250})\n",
    "fmin"
   ]
  },
  {
   "cell_type": "code",
   "execution_count": 12,
   "metadata": {
    "scrolled": true
   },
   "outputs": [
    {
     "data": {
      "text/plain": [
       "array([[10],\n",
       "       [10],\n",
       "       [10],\n",
       "       ...,\n",
       "       [ 9],\n",
       "       [ 9],\n",
       "       [ 9]], dtype=int64)"
      ]
     },
     "execution_count": 12,
     "metadata": {},
     "output_type": "execute_result"
    }
   ],
   "source": [
    "X = np.matrix(X)\n",
    "#優化得到的行向量按維數合成theta1和theta2\n",
    "theta1 = np.matrix(np.reshape(fmin.x[:hidden_size * (input_size + 1)], (hidden_size, (input_size + 1))))  \n",
    "theta2 = np.matrix(np.reshape(fmin.x[hidden_size * (input_size + 1):], (num_labels, (hidden_size + 1))))\n",
    "\n",
    "a1, z2, a2, z3, h = forward_propagate(X, theta1, theta2)   #最優的theta1和theta2正向傳播一次，看看預測下效果\n",
    "y_pred = np.array(np.argmax(h, axis=1) + 1)  #因為h索引從0開始，需要加1，得到y_pred為我們的預測結果\n",
    "y_pred"
   ]
  },
  {
   "cell_type": "code",
   "execution_count": 13,
   "metadata": {},
   "outputs": [
    {
     "name": "stdout",
     "output_type": "stream",
     "text": [
      "accuracy = 98.18%\n"
     ]
    }
   ],
   "source": [
    "correct = [1 if a == b else 0 for (a, b) in zip(y_pred, y)]  #比較預測和實際的結果。正確為1，錯誤為0\n",
    "accuracy = (sum(map(int, correct)) / float(len(correct))) #累加求和，除以總個數，得到正確率\n",
    "print ('accuracy = {0}%'.format(accuracy * 100))"
   ]
  },
  {
   "cell_type": "markdown",
   "metadata": {},
   "source": [
    "#### 3 Visualizing the hidden layer\n",
    "畫出每個unit偵測到的feature為何，可以幫助我們增進對模型學習結果的判讀與解釋"
   ]
  },
  {
   "cell_type": "code",
   "execution_count": 14,
   "metadata": {},
   "outputs": [
    {
     "data": {
      "image/png": "[encoded data removed]",
      "text/plain": [
       "<Figure size 1440x1440 with 1 Axes>"
      ]
     },
     "metadata": {
      "needs_background": "light"
     },
     "output_type": "display_data"
    }
   ],
   "source": [
    "from display_network import *\n",
    "image = display_network(theta1[:,1:].T)\n",
    "fig, ax = plt.subplots(figsize = (20, 20))\n",
    "plt.imshow(image)\n",
    "plt.gray()\n",
    "ax.get_xaxis().set_visible(False)\n",
    "ax.get_yaxis().set_visible(False)\n",
    "plt.show()"
   ]
  },
  {
   "cell_type": "markdown",
   "metadata": {},
   "source": [
    "## 問題討論"
   ]
  },
  {
   "cell_type": "markdown",
   "metadata": {},
   "source": [
    "#### 1.\n",
    "**這次的程式碼中有一些hyper parameter可以進行調整，  \n",
    "例如hidden_size 與 learning_rate，  \n",
    "試討論調參過程與最好的結果，並描述這兩個參數對效能的影響為何。**  \n",
    "\n",
    "- hidden_size大，模型更複雜，會有更好的學習率\n",
    "- learning_rate過大可能會造成:\n",
    "    - 抑制overfitting失敗\n",
    "    - 造成underfitting\n",
    "    - 梯度算法不一定收斂"
   ]
  },
  {
   "cell_type": "markdown",
   "metadata": {},
   "source": [
    "---\n",
    "#### 2. \n",
    "**嘗試以regression任務來解決手寫數字辨識問題，  \n",
    "並討論與classification任務的效能比較，並解釋其原因。**\n",
    "\n",
    "\n",
    "\n",
    "\n"
   ]
  },
  {
   "cell_type": "markdown",
   "metadata": {},
   "source": [
    "嘗試以regression任務來解決手寫數字辨識問題。  \n",
    "以輸入20x20的圖片作為輸入，而上面的數字則以1~10的數字做為對應的label(label為10代表數字10)  \n",
    "以預測值與label的mse作為訓練的cost function  \n",
    "代表假設有一筆資料的label是5，代表這張圖片上的數字是5  \n",
    "而如果預測值偏離5越多，受到的懲罰越多，距離5越靠近，受到的懲罰則越小  \n",
    "\n",
    "撰寫了一個 mapping function來計算正確率如下的transform(h)"
   ]
  },
  {
   "cell_type": "code",
   "execution_count": null,
   "metadata": {},
   "outputs": [],
   "source": [
    "import numpy as np\n",
    "import pandas as pd\n",
    "import matplotlib.pyplot as plt\n",
    "from scipy.io import loadmat\n",
    "\n",
    "from sklearn.preprocessing import OneHotEncoder\n",
    "\n",
    "\n",
    "data = loadmat('data/ex4data1.mat')\n",
    "\n",
    "y_onehot = data['y']\n",
    "\n",
    "\n",
    "def transform(h):\n",
    "    pre = np.zeros(h.shape)   \n",
    "    for i in range(m):\n",
    "        if h[i,:] > 9.5:\n",
    "            pre[i,:] = 10\n",
    "        elif h[i,:] < 1.5:\n",
    "            pre[i,:] = 1\n",
    "        else:\n",
    "            pre[i,:] = int(h[i,:]+0.5)\n",
    "\n",
    "    return pre\n",
    "\n",
    "\n",
    "\n",
    "#sigmoid函數\n",
    "def sigmoid(z):\n",
    "    return 1 / (1 + np.exp(-z))\n",
    "\n",
    "#\n",
    "def forward_propagate(X, theta1, theta2):\n",
    "    m = X.shape[0]\n",
    "    a1 = np.insert(X, 0, values=np.ones(m), axis=1) #在X最前面加一列5000*1的向量\n",
    "    z2 = a1 * theta1.T #得到5000*25的矩陣，400个特徵轉化為25個隱藏特征\n",
    "    a2 = np.insert(sigmoid(z2), 0, values=np.ones(m), axis=1) #取激活後的z2，再加一列5000*1的向量\n",
    "    z3 = a2 * theta2.T #得到5000*10的矩陣，最後10個特徵\n",
    "    h = z3\n",
    "    return a1, z2, a2, z3, h    \n",
    "\n",
    "def cost(params, input_size, hidden_size, num_labels, X, y, learning_rate):\n",
    "    m = X.shape[0]\n",
    "    X = np.matrix(X)\n",
    "    y = np.matrix(y)\n",
    "    # reshape the parameter array into parameter matrices for each layer\n",
    "    theta1 = np.matrix(np.reshape(params[:hidden_size * (input_size + 1)], (hidden_size, (input_size + 1))))\n",
    "    theta2 = np.matrix(np.reshape(params[hidden_size * (input_size + 1):], (num_labels, (hidden_size + 1))))\n",
    "    # run the feed-forward pass\n",
    "    a1, z2, a2, z3, h = forward_propagate(X, theta1, theta2)\n",
    "    # compute the cost\n",
    "    J = 0\n",
    "    for i in range(m):\n",
    "        result = (y[i,:]-h[i,:])**2\n",
    "        J += np.sum[result]    \n",
    "    J = J / m\n",
    "    J += (float(learning_rate)/(2*m)) * (np.sum(np.power(theta1[:,1:],2))) +  (np.sum(np.power(theta2[:,1:],2)))\n",
    "\n",
    "    return J\n",
    "\n",
    "\n",
    "# initial setup\n",
    "input_size = 400  #輸入層變數個數400\n",
    "hidden_size = 25  #隱藏層變數個數為25\n",
    "num_labels = 10   #輸出層10個代表分別為1到10的概率\n",
    "learning_rate = 1 #正則化的係數\n",
    "\n",
    "# randomly initialize a parameter array of the size of the full network's parameters\n",
    "params = (np.random.random(size=hidden_size * (input_size + 1) + num_labels * (hidden_size + 1)) - 0.5) *0.2\n",
    "m = data['X'].shape[0] \n",
    "X = np.matrix(data['X']) #轉為矩陣方便運算\n",
    "y = np.matrix(data['y'])\n",
    "# unravel the parameter array into parameter matrices for each layer\n",
    "##優化得到的行向量按維數合成theta1和theta2\n",
    "theta1 = np.matrix(np.reshape(params[:hidden_size * (input_size + 1)], (hidden_size, (input_size + 1))))\n",
    "theta2 = np.matrix(np.reshape(params[hidden_size * (input_size + 1):], (num_labels, (hidden_size + 1))))\n",
    "\n",
    "a1, z2, a2, z3, h = forward_propagate(X, theta1, theta2)\n",
    "\n",
    "#sigmoid函數求導\n",
    "def sigmoid_gradient(z):\n",
    "    return np.multiply(sigmoid(z), (1 - sigmoid(z)))\n",
    "\n",
    "\n",
    "#反向傳播演算法計算梯度的函數，最後得到誤差J和梯度grad（把兩個梯度矩陣按行展開合成一行）\n",
    "def backprop(params, input_size, hidden_size, num_labels, X, y, learning_rate):\n",
    "    m = X.shape[0]\n",
    "    X = np.matrix(X)\n",
    "    y = np.matrix(y)\n",
    "    # reshape the parameter array into parameter matrices for each layer\n",
    "    theta1 = np.matrix(np.reshape(params[:hidden_size * (input_size + 1)], (hidden_size, (input_size + 1))))\n",
    "    theta2 = np.matrix(np.reshape(params[hidden_size * (input_size + 1):], (num_labels, (hidden_size + 1))))\n",
    "    # run the feed-forward pass\n",
    "    a1, z2, a2, z3, h = forward_propagate(X, theta1, theta2)\n",
    "    # initializations\n",
    "    J = 0\n",
    "    delta1 = np.zeros(theta1.shape) # (25, 401)\n",
    "    delta2 = np.zeros(theta2.shape) # (10, 26)\n",
    "    # compute the cost\n",
    "    for i in range(m):\n",
    "        first_term = np.multiply(-y[i,:], np.log(h[i,:])) #y_onehot的每一行和輸出概率h的每一行資料相乘\n",
    "        second_term = np.multiply((1 - y[i,:]), np.log(1 - h[i,:]))\n",
    "        J += np.sum(first_term - second_term) #乘出來的10*1的向量元素求和，再累加5000組的數據\n",
    "\n",
    "    J = J / m\n",
    "    \n",
    "    # add the cost regularization term\n",
    "    J += (float(learning_rate) / (2 * m)) * (np.sum(np.power(theta1[:,1:], 2)) + np.sum(np.power(theta2[:,1:],2)))\n",
    "    # perform backpropagation          \n",
    "    for t in range(m):\n",
    "        a1t = a1[t,:] # (1, 401)\n",
    "        z2t = z2[t,:] # (1, 25)\n",
    "        a2t = a2[t,:] # (1, 26)\n",
    "        ht = h[t,:] # (1, 10)\n",
    "        yt = y[t,:] # (1, 10)\n",
    "        d3t = ht - yt # (1, 10)\n",
    "        z2t = np.insert(z2t, 0, values=np.ones(1)) # (1, 26)\n",
    "        d2t = np.multiply((theta2.T * d3t.T).T, sigmoid_gradient(z2t)) # (1, 26)\n",
    "        delta1 = delta1 + (d2t[:,1:]).T * a1t\n",
    "        delta2 = delta2 + d3t.T * a2t\n",
    "    delta1 = delta1 / m\n",
    "    delta2 = delta2 / m\n",
    "    # unravel the gradient matrices into a single array\n",
    "    grad = np.concatenate((np.ravel(delta1), np.ravel(delta2)))\n",
    "    return J, grad\n",
    "\n",
    "\n",
    "from scipy.optimize import minimize\n",
    "# minimize the objective function\n",
    "#用minimize函數通過梯度grad優化J得到最優的theta1和theta2讓J最小\n",
    "fmin = minimize(fun=backprop, x0=params, args=(input_size, hidden_size, num_labels, X, y_onehot, learning_rate),  \n",
    "                method='TNC', jac=True, options={'maxiter': 250})\n",
    "\n",
    "\n",
    "X = np.matrix(X)\n",
    "#優化得到的行向量按維數合成theta1和theta2\n",
    "theta1 = np.matrix(np.reshape(fmin.x[:hidden_size * (input_size + 1)], (hidden_size, (input_size + 1))))  \n",
    "theta2 = np.matrix(np.reshape(fmin.x[hidden_size * (input_size + 1):], (num_labels, (hidden_size + 1))))\n",
    "a1, z2, a2, z3, h = forward_propagate(X, theta1, theta2)   #最優的theta1和theta2正向傳播一次，看看預測下效果\n",
    "\n",
    "#y_pred = np.array(np.argmax(h, axis=1) + 1)\n",
    "#y_pred = transform(h)  #因為h索引從0開始，需要加1，得到y_pred為我們的預測結果\n",
    "\n",
    "\n",
    "correct = [1 if a == b else 0 for (a, b) in zip(y_pred, y)]  #比較預測和實際的結果。正確為1，錯誤為0\n",
    "accuracy = (sum(map(int, correct)) / float(len(correct))) #累加求和，除以總個數，得到正確率\n",
    "print ('accuracy = {0}%'.format(accuracy * 100))"
   ]
  }
 ],
 "metadata": {
  "kernelspec": {
   "display_name": "Python 3",
   "language": "python",
   "name": "python3"
  },
  "language_info": {
   "codemirror_mode": {
    "name": "ipython",
    "version": 3
   },
   "file_extension": ".py",
   "mimetype": "text/x-python",
   "name": "python",
   "nbconvert_exporter": "python",
   "pygments_lexer": "ipython3",
   "version": "3.7.4"
  }
 },
 "nbformat": 4,
 "nbformat_minor": 2
}
